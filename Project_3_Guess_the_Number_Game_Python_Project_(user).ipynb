{
  "nbformat": 4,
  "nbformat_minor": 0,
  "metadata": {
    "colab": {
      "provenance": []
    },
    "kernelspec": {
      "name": "python3",
      "display_name": "Python 3"
    },
    "language_info": {
      "name": "python"
    }
  },
  "cells": [
    {
      "cell_type": "code",
      "source": [
        "import random  # Import random module\n",
        "\n",
        "def computer_guess(x):\n",
        "    low = 1\n",
        "    high = x\n",
        "    feedback = ''\n",
        "    while feedback != 'c':\n",
        "        if low != high:\n",
        "            guess = random.randint(low, high)  # Generate a random guess between low and high\n",
        "        else:\n",
        "            guess = low\n",
        "        feedback = input(f'Is {guess} too high (H), too low (L), or correct (C)? ').lower()\n",
        "        if feedback == 'h':\n",
        "            high = guess - 1\n",
        "        elif feedback == 'l':\n",
        "            low = guess + 1\n",
        "    print(f'Yay! The computer guessed your number, {guess}, correctly!')\n",
        "\n",
        "# Max number\n",
        "computer_guess(10)"
      ],
      "metadata": {
        "colab": {
          "base_uri": "https://localhost:8080/"
        },
        "id": "tsGS7YAR9eqP",
        "outputId": "7e5f1c4c-6ba2-4710-c8e6-e227923d44b5"
      },
      "execution_count": null,
      "outputs": [
        {
          "output_type": "stream",
          "name": "stdout",
          "text": [
            "Is 9 too high (H), too low (L), or correct (C)? h\n",
            "Is 2 too high (H), too low (L), or correct (C)? l\n",
            "Is 8 too high (H), too low (L), or correct (C)? h\n",
            "Is 3 too high (H), too low (L), or correct (C)? l\n",
            "Is 6 too high (H), too low (L), or correct (C)? h\n",
            "Is 4 too high (H), too low (L), or correct (C)? l\n",
            "Is 5 too high (H), too low (L), or correct (C)? c\n",
            "Yay! The computer guessed your number, 5, correctly!\n"
          ]
        }
      ]
    }
  ]
}