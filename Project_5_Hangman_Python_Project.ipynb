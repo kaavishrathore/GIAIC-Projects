{
  "nbformat": 4,
  "nbformat_minor": 0,
  "metadata": {
    "colab": {
      "provenance": []
    },
    "kernelspec": {
      "name": "python3",
      "display_name": "Python 3"
    },
    "language_info": {
      "name": "python"
    }
  },
  "cells": [
    {
      "cell_type": "code",
      "execution_count": 31,
      "metadata": {
        "colab": {
          "base_uri": "https://localhost:8080/",
          "height": 106
        },
        "id": "QHD7csv6z7r-",
        "outputId": "489bcbfa-e22c-4789-933b-581ec4add7bd"
      },
      "outputs": [
        {
          "output_type": "error",
          "ename": "IndentationError",
          "evalue": "unexpected indent (<ipython-input-31-d8de9aa53450>, line 30)",
          "traceback": [
            "\u001b[0;36m  File \u001b[0;32m\"<ipython-input-31-d8de9aa53450>\"\u001b[0;36m, line \u001b[0;32m30\u001b[0m\n\u001b[0;31m    if user_letter in word_letters:\u001b[0m\n\u001b[0m    ^\u001b[0m\n\u001b[0;31mIndentationError\u001b[0m\u001b[0;31m:\u001b[0m unexpected indent\n"
          ]
        }
      ],
      "source": [
        "import random\n",
        "from words import words\n",
        "def get_valid_word(words):\n",
        "    word = random.choice(words)   #randomly chooses something from the list\n",
        "    while '-' in word or ' ' in word:\n",
        "        word = random.choice(words)\n",
        "    return word\n",
        "\n",
        "def hangman():\n",
        "  word = get_valid_word(words)\n",
        "  word_letters = set(word) #letters in the word\n",
        "  alphabet = set(string.ascii_uppercase)\n",
        "  used_letters = set() #what the user has guessed\n",
        "\n",
        "  live = 6\n",
        "\n",
        "  #getting user input\n",
        "  while len(word_letters) > 0 and live > 0:\n",
        "    # letters used\n",
        "    # ' '.join(['a', 'b', 'cd']) --> 'a b cd'\n",
        "    print('You have', live, 'lives left and you have used these letters: ', ' '.join(used_letters))\n",
        "\n",
        "    # what current word is (ie W - R D)\n",
        "    word_list = [letter if letter in used_letters else '-' for letter in word]\n",
        "    print('Current word: ', ' '.join(word_list))\n",
        "\n",
        "    user_letter = input('Guess a letter: ').upper()\n",
        "    if user_letter in alphabet - used_letters:\n",
        "      used_letters.add(user_letter)\n",
        "       if user_letter in word_letters:\n",
        "         word_letters.remove(user_letter)\n",
        "\n",
        "         else:\n",
        "             live = live - 1 #takes away a life if wrong\n",
        "             print('Letter is not in word.')\n",
        "\n",
        "    else user_letter in used_letters:\n",
        "        print('\\nYou have already used that character. Please try again.')\n",
        "\n",
        "    else:\n",
        "        print('\\nInvalid character. Please try again.')\n",
        "\n",
        "# gets here when len(word_letters) == 0 OR when lives == 0\n",
        "if lives == 0:\n",
        "      print('You died, sorry. The word was', word)\n",
        "else:\n",
        "      print('YAY! You guessed the word', word, '!!')\n",
        "\n",
        "# Start the game\n",
        "hangman()"
      ]
    },
    {
      "cell_type": "code",
      "source": [
        "import random\n",
        "from words import words\n",
        "\n",
        "def get_valid_word(words):\n",
        "    word = random.choice(words)  # randomly chooses something from the list\n",
        "    while '-' in word or ' ' in word:\n",
        "        word = random.choice(words)\n",
        "    return word\n",
        "\n",
        "def hangman():\n",
        "    word = get_valid_word(words)\n",
        "    word_letters = set(word)  # letters in the word\n",
        "    alphabet = set(string.ascii_uppercase)\n",
        "    used_letters = set()  # what the user has guessed\n",
        "\n",
        "    live = 6\n",
        "\n",
        "    # getting user input\n",
        "    while len(word_letters) > 0 and live > 0:\n",
        "        # letters used\n",
        "        # ' '.join(['a', 'b', 'cd']) --> 'a b cd'\n",
        "        print('You have', live, 'lives left and you have used these letters: ', ' '.join(used_letters))\n",
        "\n",
        "        # what current word is (ie W - R D)\n",
        "        word_list = [letter if letter in used_letters else '-' for letter in word]\n",
        "        print('Current word: ', ' '.join(word_list))\n",
        "\n",
        "        user_letter = input('Guess a letter: ').upper()\n",
        "        if user_letter in alphabet - used_letters:\n",
        "            used_letters.add(user_letter)\n",
        "            if user_letter in word_letters:\n",
        "                word_letters.remove(user_letter)\n",
        "            else:\n",
        "                live -= 1  # takes away a life if wrong\n",
        "                print('Letter is not in word.')\n",
        "        elif user_letter in used_letters:\n",
        "            print('\\nYou have already used that character. Please try again.')\n",
        "        else:\n",
        "            print('\\nInvalid character. Please try again.')\n",
        "\n",
        "    # gets here when len(word_letters) == 0 OR when lives == 0\n",
        "    if live == 0:\n",
        "        print('You died, sorry. The word was', word)\n",
        "    else:\n",
        "        print('YAY! You guessed the word', word, '!!')\n",
        "\n",
        "# Start the game\n",
        "hangman()\n"
      ],
      "metadata": {
        "colab": {
          "base_uri": "https://localhost:8080/",
          "height": 384
        },
        "id": "1EwHEpYV0KlD",
        "outputId": "845698c9-34d5-44b6-b015-9995c6acdbfe"
      },
      "execution_count": 24,
      "outputs": [
        {
          "output_type": "error",
          "ename": "ModuleNotFoundError",
          "evalue": "No module named 'words'",
          "traceback": [
            "\u001b[0;31m---------------------------------------------------------------------------\u001b[0m",
            "\u001b[0;31mModuleNotFoundError\u001b[0m                       Traceback (most recent call last)",
            "\u001b[0;32m<ipython-input-24-4f806b219a19>\u001b[0m in \u001b[0;36m<cell line: 2>\u001b[0;34m()\u001b[0m\n\u001b[1;32m      1\u001b[0m \u001b[0;32mimport\u001b[0m \u001b[0mrandom\u001b[0m\u001b[0;34m\u001b[0m\u001b[0;34m\u001b[0m\u001b[0m\n\u001b[0;32m----> 2\u001b[0;31m \u001b[0;32mfrom\u001b[0m \u001b[0mwords\u001b[0m \u001b[0;32mimport\u001b[0m \u001b[0mwords\u001b[0m\u001b[0;34m\u001b[0m\u001b[0;34m\u001b[0m\u001b[0m\n\u001b[0m\u001b[1;32m      3\u001b[0m \u001b[0;34m\u001b[0m\u001b[0m\n\u001b[1;32m      4\u001b[0m \u001b[0;32mdef\u001b[0m \u001b[0mget_valid_word\u001b[0m\u001b[0;34m(\u001b[0m\u001b[0mwords\u001b[0m\u001b[0;34m)\u001b[0m\u001b[0;34m:\u001b[0m\u001b[0;34m\u001b[0m\u001b[0;34m\u001b[0m\u001b[0m\n\u001b[1;32m      5\u001b[0m     \u001b[0mword\u001b[0m \u001b[0;34m=\u001b[0m \u001b[0mrandom\u001b[0m\u001b[0;34m.\u001b[0m\u001b[0mchoice\u001b[0m\u001b[0;34m(\u001b[0m\u001b[0mwords\u001b[0m\u001b[0;34m)\u001b[0m  \u001b[0;31m# randomly chooses something from the list\u001b[0m\u001b[0;34m\u001b[0m\u001b[0;34m\u001b[0m\u001b[0m\n",
            "\u001b[0;31mModuleNotFoundError\u001b[0m: No module named 'words'",
            "",
            "\u001b[0;31m---------------------------------------------------------------------------\u001b[0;32m\nNOTE: If your import is failing due to a missing package, you can\nmanually install dependencies using either !pip or !apt.\n\nTo view examples of installing some common dependencies, click the\n\"Open Examples\" button below.\n\u001b[0;31m---------------------------------------------------------------------------\u001b[0m\n"
          ],
          "errorDetails": {
            "actions": [
              {
                "action": "open_url",
                "actionText": "Open Examples",
                "url": "/notebooks/snippets/importing_libraries.ipynb"
              }
            ]
          }
        }
      ]
    },
    {
      "cell_type": "code",
      "source": [],
      "metadata": {
        "id": "V8DQ-6_k25ZS"
      },
      "execution_count": null,
      "outputs": []
    }
  ]
}