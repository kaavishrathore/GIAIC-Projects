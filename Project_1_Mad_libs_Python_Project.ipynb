{
  "nbformat": 4,
  "nbformat_minor": 0,
  "metadata": {
    "colab": {
      "provenance": []
    },
    "kernelspec": {
      "name": "python3",
      "display_name": "Python 3"
    },
    "language_info": {
      "name": "python"
    }
  },
  "cells": [
    {
      "cell_type": "code",
      "source": [
        "# String concatenation (how to combine strings)\n",
        "# Example: Create a string that says \"Subscribe to ______\"\n",
        "youtuber = \"Kaavish\"  # some string variable\n",
        "\n",
        "# A few ways to do this:\n",
        "print(\"Subscribe to \" + youtuber)  # Using + for concatenation\n",
        "print(\"Subscribe to {}\".format(youtuber))  # Using the format method\n",
        "print(f\"Subscribe to {youtuber}\")  # Using an f-string\n"
      ],
      "metadata": {
        "colab": {
          "base_uri": "https://localhost:8080/"
        },
        "collapsed": true,
        "id": "T6X8o8uzGV2F",
        "outputId": "9c8cfc00-9109-48c1-a981-2d18f90cf969"
      },
      "execution_count": null,
      "outputs": [
        {
          "output_type": "stream",
          "name": "stdout",
          "text": [
            "Subscribe to Kaavish\n",
            "Subscribe to Kaavish\n",
            "Subscribe to Kaavish\n"
          ]
        }
      ]
    },
    {
      "cell_type": "code",
      "source": [
        "adj = input(\"Adjective: \")  # Example: amazing\n",
        "verb1 = input(\"Verb: \")  # Example: eat\n",
        "verb2 = input(\"Verb: \")  # Example: sleep\n",
        "famous_person = input(\"Famous Person: \")  # Example: Tom\n",
        "\n",
        "# Create the Mad libs story\n",
        "madlib = f\"Python is so {adj}! Some people think it's a snake that loves to {verb1} and {verb2}, but it's just a programming language. Even {famous_person} knows that!\"\n",
        "\n",
        "print(madlib)\n",
        "\n"
      ],
      "metadata": {
        "colab": {
          "base_uri": "https://localhost:8080/"
        },
        "id": "OScLuiy1ttjY",
        "outputId": "b290f41d-c5a9-4633-c932-6e3e71ec7c94"
      },
      "execution_count": null,
      "outputs": [
        {
          "output_type": "stream",
          "name": "stdout",
          "text": [
            "Adjective: amazing\n",
            "Verb: eat\n",
            "Verb: sleep\n",
            "Famous Person: Tom\n",
            "Python is so amazing! Some people think it's a snake that loves to eat and sleep, but it's just a programming language. Even Tom knows that!\n"
          ]
        }
      ]
    }
  ]
}